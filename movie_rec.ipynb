{
 "cells": [
  {
   "cell_type": "code",
   "execution_count": null,
   "metadata": {
    "id": "RK_iQjsmR-7b"
   },
   "outputs": [],
   "source": [
    "\n",
    "import numpy as np\n",
    "import copy\n"
   ]
  },
  {
   "cell_type": "code",
   "execution_count": null,
   "metadata": {
    "colab": {
     "base_uri": "https://localhost:8080/"
    },
    "id": "MQFRVPxC41ZI",
    "outputId": "4ffbda5f-23c2-48cd-ffd3-26e2e44e5301"
   },
   "outputs": [],
   "source": [
    "\n",
    "# This utility matrix records the ratings of 10 users for 10 movies.\n",
    "# Ratings are 1-10. A rating of 0 indicates that the user has not seen the movie\n",
    "# Each row represents one user's ratings.\n",
    "# Each column represents one movie's ratings\n",
    "\n",
    "movies = [\n",
    "    \"Beetlejuice\", \"The Butterfly Effect\", \"i, Robot\",\n",
    "    \"The Rookie\", \"Cheaper by the Dozen\", \"It\",\n",
    "    \"The Grudge\", \"Casper\", \"The Village\",\n",
    "    \"Eyes Wide Shut\"\n",
    "]\n",
    "\n",
    "viewers = [\n",
    "    \"Jude\", \"Clinton\", \"Addie\",\n",
    "    \"Veronica\", \"Ilene\", \"Elisabeth\",\n",
    "    \"Billie\", \"Miriam\", \"John\",\n",
    "    \"Lucille\"\n",
    "]\n",
    "\n",
    "utility = np.array([\n",
    "  [0, 10, 8, 0, 2, 6, 0, 10, 3, 8], #Jude\n",
    "  [0, 9, 7, 0, 9, 7, 1, 10, 3, 0], #Clinton\n",
    "  [0, 1, 0, 2, 0, 0, 2, 0, 0, 0], #Addie\n",
    "  [6, 0, 4, 0, 5, 7, 4, 0, 0, 0], #Veronica\n",
    "  [9, 9, 0, 8, 0, 0, 8, 0, 9, 0], #Ilene\n",
    "  [0, 6, 0, 0, 0, 0, 0, 0, 0, 0], #Elizabeth\n",
    "  [6, 0, 3, 3, 2, 8, 0, 7, 0, 8], #Billie\n",
    "  [0, 4, 9, 0, 2, 1, 0, 0, 1, 0], #Miriam\n",
    "  [5, 8, 10, 4, 7, 4, 10, 0, 2, 6], #John\n",
    "  [3, 10, 8, 0, 1, 0, 0, 0, 0, 0], #Lucille\n",
    "])"
   ]
  },
  {
   "cell_type": "code",
   "execution_count": null,
   "metadata": {
    "id": "QGdaYuAjT-oc"
   },
   "outputs": [],
   "source": [
    "\n",
    "\n",
    "def get_index_of_user(user: str) -> int:\n",
    "  for i, viewer in enumerate(viewers):\n",
    "    if user == viewer:\n",
    "      return i\n",
    "\n",
    "\n",
    "def make_recomendation(user: str) -> str:\n",
    "\n",
    "\n",
    "  user_idx = get_index_of_user(user)\n",
    "\n",
    "  # finding most simular row\n",
    "  user_row = utility[user_idx]\n",
    "\n",
    "  curr_most_simular_person = None\n",
    "  curr_most_simular_person_rating = -1\n",
    "\n",
    "  for i, row in enumerate(utility):\n",
    "    if i != user_idx:\n",
    "      person_simularity_rating = 0\n",
    "      for j, col in enumerate(row):\n",
    "        if user_row[j] != 0 and col != 0:\n",
    "          diff = abs(user_row[j]-col)\n",
    "          if diff <= 3:\n",
    "            person_simularity_rating += .1 - diff*.01\n",
    "          \n",
    "      if person_simularity_rating > curr_most_simular_person_rating:\n",
    "        curr_most_simular_person_rating = person_simularity_rating\n",
    "        curr_most_simular_person = viewers[i]\n",
    "\n",
    "  # Getting highest rated movie from simular user that user has not watched\n",
    "\n",
    "  most_simular_person = curr_most_simular_person\n",
    "  curr_highest_rated_movie_by_simular_user = None\n",
    "  curr_highest_rated_movie_rating_by_simular_user = -1\n",
    "  simular_user_index = get_index_of_user(most_simular_person)\n",
    "\n",
    "  for i, simular_user_rating in enumerate(utility[simular_user_index]):\n",
    "    user_rating = utility[user_idx][i]\n",
    "    if simular_user_rating > curr_highest_rated_movie_rating_by_simular_user and simular_user_rating != 0 and user_rating == 0:\n",
    "      curr_highest_rated_movie_rating_by_simular_user = simular_user_rating\n",
    "      curr_highest_rated_movie_by_simular_user = movies[i]\n",
    "  \n",
    "  return curr_highest_rated_movie_by_simular_user\n",
    "\n",
    "\n"
   ]
  },
  {
   "cell_type": "code",
   "execution_count": null,
   "metadata": {
    "id": "CO9PVa9ZVCYX"
   },
   "outputs": [
    {
     "name": "stdout",
     "output_type": "stream",
     "text": [
      "I recommend The Grudge for Jude.\n",
      "I recommend Eyes Wide Shut for Clinton.\n",
      "I recommend Casper for Addie.\n",
      "I recommend Eyes Wide Shut for Veronica.\n",
      "I recommend i, Robot for Ilene.\n",
      "I recommend i, Robot for Elisabeth.\n",
      "I recommend The Grudge for Billie.\n",
      "I recommend Casper for Miriam.\n",
      "I recommend Casper for John.\n",
      "I recommend Casper for Lucille.\n"
     ]
    }
   ],
   "source": [
    "\n",
    "\n",
    "for name in viewers:\n",
    "  movie = make_recomendation(name)\n",
    "  if movie:\n",
    "    print(f\"I recommend {movie} for {name}.\")\n",
    "  else:\n",
    "    print(f\"No recomendation for {name}.\")"
   ]
  }
 ],
 "metadata": {
  "colab": {
   "provenance": []
  },
  "kernelspec": {
   "display_name": "Python 3",
   "name": "python3"
  },
  "language_info": {
   "codemirror_mode": {
    "name": "ipython",
    "version": 3
   },
   "file_extension": ".py",
   "mimetype": "text/x-python",
   "name": "python",
   "nbconvert_exporter": "python",
   "pygments_lexer": "ipython3",
   "version": "3.10.6"
  }
 },
 "nbformat": 4,
 "nbformat_minor": 0
}
